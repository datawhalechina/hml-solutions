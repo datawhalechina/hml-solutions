{
 "cells": [
  {
   "cell_type": "code",
   "execution_count": 1,
   "metadata": {},
   "outputs": [
    {
     "name": "stdout",
     "output_type": "stream",
     "text": [
      "Requirement already satisfied: nbconvert in d:\\miniconda\\lib\\site-packages (7.16.6)\n",
      "Requirement already satisfied: beautifulsoup4 in d:\\miniconda\\lib\\site-packages (from nbconvert) (4.12.3)\n",
      "Requirement already satisfied: bleach!=5.0.0 in d:\\miniconda\\lib\\site-packages (from bleach[css]!=5.0.0->nbconvert) (6.2.0)\n",
      "Requirement already satisfied: defusedxml in d:\\miniconda\\lib\\site-packages (from nbconvert) (0.7.1)\n",
      "Requirement already satisfied: jinja2>=3.0 in d:\\miniconda\\lib\\site-packages (from nbconvert) (3.1.5)\n",
      "Requirement already satisfied: jupyter-core>=4.7 in d:\\miniconda\\lib\\site-packages (from nbconvert) (5.7.2)\n",
      "Requirement already satisfied: jupyterlab-pygments in d:\\miniconda\\lib\\site-packages (from nbconvert) (0.3.0)\n",
      "Requirement already satisfied: markupsafe>=2.0 in d:\\miniconda\\lib\\site-packages (from nbconvert) (3.0.2)\n",
      "Requirement already satisfied: mistune<4,>=2.0.3 in d:\\miniconda\\lib\\site-packages (from nbconvert) (3.1.2)\n",
      "Requirement already satisfied: nbclient>=0.5.0 in d:\\miniconda\\lib\\site-packages (from nbconvert) (0.10.2)\n",
      "Requirement already satisfied: nbformat>=5.7 in d:\\miniconda\\lib\\site-packages (from nbconvert) (5.10.4)\n",
      "Requirement already satisfied: packaging in d:\\miniconda\\lib\\site-packages (from nbconvert) (24.1)\n",
      "Requirement already satisfied: pandocfilters>=1.4.1 in d:\\miniconda\\lib\\site-packages (from nbconvert) (1.5.0)\n",
      "Requirement already satisfied: pygments>=2.4.1 in d:\\miniconda\\lib\\site-packages (from nbconvert) (2.19.1)\n",
      "Requirement already satisfied: traitlets>=5.1 in d:\\miniconda\\lib\\site-packages (from nbconvert) (5.14.3)\n",
      "Requirement already satisfied: webencodings in d:\\miniconda\\lib\\site-packages (from bleach!=5.0.0->bleach[css]!=5.0.0->nbconvert) (0.5.1)\n",
      "Requirement already satisfied: tinycss2<1.5,>=1.1.0 in d:\\miniconda\\lib\\site-packages (from bleach[css]!=5.0.0->nbconvert) (1.4.0)\n",
      "Requirement already satisfied: platformdirs>=2.5 in d:\\miniconda\\lib\\site-packages (from jupyter-core>=4.7->nbconvert) (3.10.0)\n",
      "Requirement already satisfied: pywin32>=300 in d:\\miniconda\\lib\\site-packages (from jupyter-core>=4.7->nbconvert) (307)\n",
      "Requirement already satisfied: jupyter-client>=6.1.12 in d:\\miniconda\\lib\\site-packages (from nbclient>=0.5.0->nbconvert) (8.6.3)\n",
      "Requirement already satisfied: fastjsonschema>=2.15 in d:\\miniconda\\lib\\site-packages (from nbformat>=5.7->nbconvert) (2.20.0)\n",
      "Requirement already satisfied: jsonschema>=2.6 in d:\\miniconda\\lib\\site-packages (from nbformat>=5.7->nbconvert) (4.23.0)\n",
      "Requirement already satisfied: soupsieve>1.2 in d:\\miniconda\\lib\\site-packages (from beautifulsoup4->nbconvert) (2.5)\n",
      "Requirement already satisfied: attrs>=22.2.0 in d:\\miniconda\\lib\\site-packages (from jsonschema>=2.6->nbformat>=5.7->nbconvert) (24.3.0)\n",
      "Requirement already satisfied: jsonschema-specifications>=2023.03.6 in d:\\miniconda\\lib\\site-packages (from jsonschema>=2.6->nbformat>=5.7->nbconvert) (2023.7.1)\n",
      "Requirement already satisfied: referencing>=0.28.4 in d:\\miniconda\\lib\\site-packages (from jsonschema>=2.6->nbformat>=5.7->nbconvert) (0.30.2)\n",
      "Requirement already satisfied: rpds-py>=0.7.1 in d:\\miniconda\\lib\\site-packages (from jsonschema>=2.6->nbformat>=5.7->nbconvert) (0.22.3)\n",
      "Requirement already satisfied: python-dateutil>=2.8.2 in d:\\miniconda\\lib\\site-packages (from jupyter-client>=6.1.12->nbclient>=0.5.0->nbconvert) (2.9.0.post0)\n",
      "Requirement already satisfied: pyzmq>=23.0 in d:\\miniconda\\lib\\site-packages (from jupyter-client>=6.1.12->nbclient>=0.5.0->nbconvert) (26.2.1)\n",
      "Requirement already satisfied: tornado>=6.2 in d:\\miniconda\\lib\\site-packages (from jupyter-client>=6.1.12->nbclient>=0.5.0->nbconvert) (6.4.2)\n",
      "Requirement already satisfied: six>=1.5 in d:\\miniconda\\lib\\site-packages (from python-dateutil>=2.8.2->jupyter-client>=6.1.12->nbclient>=0.5.0->nbconvert) (1.17.0)\n"
     ]
    },
    {
     "name": "stderr",
     "output_type": "stream",
     "text": [
      "[NbConvertApp] Converting notebook D:/Works_Colletction/handyML/handyML/Hands-on-ML-solutions-main/notebooks/第14章 k均值聚类-未审核/ch14.ipynb to markdown\n",
      "[NbConvertApp] Support files will be in ch14_files\\\n",
      "[NbConvertApp] Making directory D:/Works_Colletction/handyML/handyML/Hands-on-ML-solutions-main/notebooks/第14章 k均值聚类-未审核\\ch14_files\n",
      "[NbConvertApp] Writing 19442 bytes to D:\\Works_Colletction\\handyML\\handyML\\Hands-on-ML-solutions-main\\notebooks\\第14章 k均值聚类-未审核\\ch14.md\n"
     ]
    }
   ],
   "source": [
    "# 安装 nbconvert（如果尚未安装）\n",
    "!pip install nbconvert\n",
    "\n",
    "# 转换指定的 notebook 文件为 markdown\n",
    "!jupyter nbconvert --to markdown \"D:/Works_Colletction/handyML/handyML/Hands-on-ML-solutions-main/notebooks/第14章 k均值聚类-未审核/ch14.ipynb\"\n",
    "\n",
    "# 输出将生成在同一目录下，文件名为 ch14.md"
   ]
  },
  {
   "cell_type": "code",
   "execution_count": 2,
   "metadata": {},
   "outputs": [
    {
     "name": "stdout",
     "output_type": "stream",
     "text": [
      "转换完成！Markdown 文件和相关图片已保存至：D:/Works_Colletction/handyML/handyML/Hands-on-ML-solutions-main/notebooks/第14章 k均值聚类-未审核\\ch14.md 和 D:/Works_Colletction/handyML/handyML/Hands-on-ML-solutions-main/notebooks/第14章 k均值聚类-未审核\\images\n"
     ]
    }
   ],
   "source": [
    "import os\n",
    "import nbformat\n",
    "from nbconvert import MarkdownExporter\n",
    "\n",
    "# 指定要转换的 notebook 文件路径\n",
    "notebook_path = \"D:/Works_Colletction/handyML/handyML/Hands-on-ML-solutions-main/notebooks/第14章 k均值聚类-未审核/ch14.ipynb\"\n",
    "output_dir = os.path.dirname(notebook_path)\n",
    "output_file = os.path.join(output_dir, os.path.basename(notebook_path).replace('.ipynb', '.md'))\n",
    "\n",
    "# 创建图片目录\n",
    "images_dir = os.path.join(output_dir, 'images')\n",
    "os.makedirs(images_dir, exist_ok=True)\n",
    "\n",
    "# 读取 notebook 文件\n",
    "with open(notebook_path, 'r', encoding='utf-8') as f:\n",
    "    notebook = nbformat.read(f, as_version=4)\n",
    "\n",
    "# 创建 Markdown 导出器\n",
    "md_exporter = MarkdownExporter()\n",
    "\n",
    "# 转换 notebook 为 markdown\n",
    "(md_content, resources) = md_exporter.from_notebook_node(notebook)\n",
    "\n",
    "# 处理图片资源\n",
    "if 'outputs' in resources:\n",
    "    image_counter = 1\n",
    "    filename_map = {}  # 用于存储原始文件名到新文件名的映射\n",
    "    \n",
    "    for filename, data in resources['outputs'].items():\n",
    "        new_filename = f'output_{image_counter}.png'\n",
    "        filename_map[filename] = new_filename\n",
    "        image_path = os.path.join(images_dir, new_filename)\n",
    "        \n",
    "        with open(image_path, 'wb') as f:\n",
    "            f.write(data)\n",
    "        \n",
    "        image_counter += 1\n",
    "    \n",
    "    # 更新 markdown 中的图片路径\n",
    "    for original_filename, new_filename in filename_map.items():\n",
    "        md_content = md_content.replace(f'![{original_filename}]({original_filename})', \n",
    "                                    f'![{new_filename}](images/{new_filename})')\n",
    "\n",
    "# 保存到文件\n",
    "with open(output_file, 'w', encoding='utf-8') as f:\n",
    "    f.write(md_content)\n",
    "\n",
    "print(f\"转换完成！Markdown 文件和相关图片已保存至：{output_file} 和 {images_dir}\")"
   ]
  }
 ],
 "metadata": {
  "kernelspec": {
   "display_name": "base",
   "language": "python",
   "name": "python3"
  },
  "language_info": {
   "codemirror_mode": {
    "name": "ipython",
    "version": 3
   },
   "file_extension": ".py",
   "mimetype": "text/x-python",
   "name": "python",
   "nbconvert_exporter": "python",
   "pygments_lexer": "ipython3",
   "version": "3.12.3"
  }
 },
 "nbformat": 4,
 "nbformat_minor": 2
}
